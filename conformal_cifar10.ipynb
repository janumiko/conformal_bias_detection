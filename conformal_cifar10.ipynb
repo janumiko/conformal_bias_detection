{
 "cells": [
  {
   "cell_type": "code",
   "execution_count": 16,
   "metadata": {},
   "outputs": [],
   "source": [
    "from torchvision import datasets, transforms\n",
    "from sklearn.model_selection import train_test_split\n",
    "import numpy as np\n",
    "import torch\n",
    "from torch.utils.data import DataLoader, Subset"
   ]
  },
  {
   "cell_type": "code",
   "execution_count": 17,
   "metadata": {},
   "outputs": [],
   "source": [
    "DATASETS_PATH = \"datasets\"\n",
    "\n",
    "CLASSES_DICT = {\n",
    "    0: \"airplane\",\n",
    "    1: \"automobile\",\n",
    "    2: \"bird\",\n",
    "    3: \"cat\",\n",
    "    4: \"deer\",\n",
    "    5: \"dog\",\n",
    "    6: \"frog\",\n",
    "    7: \"horse\",\n",
    "    8: \"ship\",\n",
    "    9: \"truck\",\n",
    "}"
   ]
  },
  {
   "cell_type": "code",
   "execution_count": 18,
   "metadata": {},
   "outputs": [
    {
     "name": "stdout",
     "output_type": "stream",
     "text": [
      "Files already downloaded and verified\n"
     ]
    }
   ],
   "source": [
    "test_transform = transforms.Compose(\n",
    "    [\n",
    "        transforms.ToTensor(),\n",
    "        transforms.Normalize(\n",
    "            mean=[0.4914, 0.4822, 0.4465], std=[0.2023, 0.1994, 0.2010]\n",
    "        ),  # normalize the cifar10 images\n",
    "    ]\n",
    ")\n",
    "\n",
    "test_dataset = datasets.CIFAR10(\n",
    "    root=DATASETS_PATH,\n",
    "    train=False,\n",
    "    download=True,\n",
    "    transform=test_transform,\n",
    ")\n",
    "\n",
    "# Get the indices of the test_dataset\n",
    "indices = list(range(len(test_dataset)))\n",
    "\n",
    "# Split the indices into test_indices and validation_indices\n",
    "test_indices, validation_indices = train_test_split(\n",
    "    indices, test_size=0.5, random_state=42, stratify=test_dataset.targets\n",
    ")\n",
    "\n",
    "# Create validation and test datasets\n",
    "validation_dataset = Subset(test_dataset, validation_indices)\n",
    "test_dataset = Subset(test_dataset, test_indices)\n",
    "\n",
    "calibration_dl = DataLoader(\n",
    "    validation_dataset, batch_size=256, shuffle=False, pin_memory=True\n",
    ")\n",
    "test_dl = DataLoader(test_dataset, batch_size=256, shuffle=False, pin_memory=True)"
   ]
  },
  {
   "cell_type": "code",
   "execution_count": 19,
   "metadata": {},
   "outputs": [],
   "source": [
    "import torch.nn as nn\n",
    "import torch.nn.functional as F\n",
    "\n",
    "\n",
    "class BasicBlock(nn.Module):\n",
    "    expansion = 1\n",
    "\n",
    "    def __init__(self, in_planes, planes, stride=1):\n",
    "        super().__init__()\n",
    "        self.conv1 = nn.Conv2d(\n",
    "            in_planes, planes, kernel_size=3, stride=stride, padding=1, bias=False\n",
    "        )\n",
    "        self.bn1 = nn.BatchNorm2d(planes)\n",
    "        self.conv2 = nn.Conv2d(\n",
    "            planes, planes, kernel_size=3, stride=1, padding=1, bias=False\n",
    "        )\n",
    "        self.bn2 = nn.BatchNorm2d(planes)\n",
    "\n",
    "        self.shortcut = nn.Sequential()\n",
    "        if stride != 1 or in_planes != self.expansion * planes:\n",
    "            self.shortcut = nn.Sequential(\n",
    "                nn.Conv2d(\n",
    "                    in_planes,\n",
    "                    self.expansion * planes,\n",
    "                    kernel_size=1,\n",
    "                    stride=stride,\n",
    "                    bias=False,\n",
    "                ),\n",
    "                nn.BatchNorm2d(self.expansion * planes),\n",
    "            )\n",
    "\n",
    "    def forward(self, x):\n",
    "        out = F.relu(self.bn1(self.conv1(x)))\n",
    "        out = self.bn2(self.conv2(out))\n",
    "        out += self.shortcut(x)\n",
    "        out = F.relu(out)\n",
    "        return out\n",
    "\n",
    "\n",
    "class Bottleneck(nn.Module):\n",
    "    expansion = 4\n",
    "\n",
    "    def __init__(self, in_planes, planes, stride=1):\n",
    "        super().__init__()\n",
    "        self.conv1 = nn.Conv2d(in_planes, planes, kernel_size=1, bias=False)\n",
    "        self.bn1 = nn.BatchNorm2d(planes)\n",
    "        self.conv2 = nn.Conv2d(\n",
    "            planes, planes, kernel_size=3, stride=stride, padding=1, bias=False\n",
    "        )\n",
    "        self.bn2 = nn.BatchNorm2d(planes)\n",
    "        self.conv3 = nn.Conv2d(\n",
    "            planes, self.expansion * planes, kernel_size=1, bias=False\n",
    "        )\n",
    "        self.bn3 = nn.BatchNorm2d(self.expansion * planes)\n",
    "\n",
    "        self.shortcut = nn.Sequential()\n",
    "        if stride != 1 or in_planes != self.expansion * planes:\n",
    "            self.shortcut = nn.Sequential(\n",
    "                nn.Conv2d(\n",
    "                    in_planes,\n",
    "                    self.expansion * planes,\n",
    "                    kernel_size=1,\n",
    "                    stride=stride,\n",
    "                    bias=False,\n",
    "                ),\n",
    "                nn.BatchNorm2d(self.expansion * planes),\n",
    "            )\n",
    "\n",
    "    def forward(self, x):\n",
    "        out = F.relu(self.bn1(self.conv1(x)))\n",
    "        out = F.relu(self.bn2(self.conv2(out)))\n",
    "        out = self.bn3(self.conv3(out))\n",
    "        out += self.shortcut(x)\n",
    "        out = F.relu(out)\n",
    "        return out\n",
    "\n",
    "\n",
    "class ResNet(nn.Module):\n",
    "    def __init__(self, block, num_blocks, num_classes=10):\n",
    "        super().__init__()\n",
    "        self.in_planes = 64\n",
    "\n",
    "        self.conv1 = nn.Conv2d(3, 64, kernel_size=3, stride=1, padding=1, bias=False)\n",
    "        self.bn1 = nn.BatchNorm2d(64)\n",
    "        self.layer1 = self._make_layer(block, 64, num_blocks[0], stride=1)\n",
    "        self.layer2 = self._make_layer(block, 128, num_blocks[1], stride=2)\n",
    "        self.layer3 = self._make_layer(block, 256, num_blocks[2], stride=2)\n",
    "        self.layer4 = self._make_layer(block, 512, num_blocks[3], stride=2)\n",
    "        self.linear = nn.Linear(512 * block.expansion, num_classes)\n",
    "\n",
    "    def _make_layer(self, block, planes, num_blocks, stride):\n",
    "        strides = [stride] + [1] * (num_blocks - 1)\n",
    "        layers = []\n",
    "        for stride in strides:\n",
    "            layers.append(block(self.in_planes, planes, stride))\n",
    "            self.in_planes = planes * block.expansion\n",
    "        return nn.Sequential(*layers)\n",
    "\n",
    "    def forward(self, x):\n",
    "        out = F.relu(self.bn1(self.conv1(x)))\n",
    "        out = self.layer1(out)\n",
    "        out = self.layer2(out)\n",
    "        out = self.layer3(out)\n",
    "        out = self.layer4(out)\n",
    "        out = F.avg_pool2d(out, 4)\n",
    "        out = out.view(out.size(0), -1)\n",
    "        out = self.linear(out)\n",
    "        return out\n",
    "\n",
    "\n",
    "def resnet18_cifar(num_classes: int, **kwargs):\n",
    "    return ResNet(BasicBlock, [2, 2, 2, 2], num_classes)"
   ]
  },
  {
   "cell_type": "code",
   "execution_count": 20,
   "metadata": {},
   "outputs": [],
   "source": [
    "device = \"cuda\" if torch.cuda.is_available() else \"cpu\""
   ]
  },
  {
   "cell_type": "code",
   "execution_count": 21,
   "metadata": {},
   "outputs": [
    {
     "data": {
      "text/plain": [
       "<All keys matched successfully>"
      ]
     },
     "execution_count": 21,
     "metadata": {},
     "output_type": "execute_result"
    }
   ],
   "source": [
    "resnet18 = resnet18_cifar(10).to(device)\n",
    "resnet18.load_state_dict(torch.load(\"resnet18_cifar10.pth\"))"
   ]
  },
  {
   "cell_type": "code",
   "execution_count": 22,
   "metadata": {},
   "outputs": [
    {
     "name": "stdout",
     "output_type": "stream",
     "text": [
      "Accuracy of the model on the test images: 94.48%\n"
     ]
    }
   ],
   "source": [
    "# test the accuracy\n",
    "resnet18.eval()\n",
    "correct = 0\n",
    "total = 0\n",
    "with torch.no_grad():\n",
    "    for images, labels in test_dl:\n",
    "        images, labels = images.to(device), labels.to(device)\n",
    "        outputs = resnet18(images)\n",
    "        _, predicted = torch.max(outputs.data, 1)\n",
    "        total += labels.size(0)\n",
    "        correct += (predicted == labels).sum().item()\n",
    "\n",
    "print(f\"Accuracy of the model on the test images: {100 * correct / total}%\")"
   ]
  },
  {
   "cell_type": "code",
   "execution_count": 23,
   "metadata": {},
   "outputs": [],
   "source": [
    "def calculate_class_coverage(model, test_dl, class_thresholds):\n",
    "    class_correct = [0 for _ in range(10)]\n",
    "    class_total = [0 for _ in range(10)]\n",
    "    set_sizes = []\n",
    "\n",
    "    model.eval()\n",
    "    for images, labels in test_dl:\n",
    "        images, labels = images.to(device), labels.to(device)\n",
    "        predicted_prob = model(images).softmax(dim=1)\n",
    "        scores = 1 - predicted_prob\n",
    "\n",
    "        sets = scores <= torch.tensor(\n",
    "            [class_thresholds[i] for i in range(10)], device=device\n",
    "        )\n",
    "        for i in range(len(labels)):\n",
    "            label = labels[i].item()\n",
    "            class_total[label] += 1\n",
    "            if sets[i, label]:\n",
    "                class_correct[label] += 1\n",
    "        set_sizes.extend(sets.sum(dim=1).cpu().numpy())\n",
    "\n",
    "    # Print coverage for each class\n",
    "    for i in range(10):\n",
    "        if class_total[i] > 0:\n",
    "            print(\n",
    "                f\"Coverage of {CLASSES_DICT[i]}: {100 * class_correct[i] / class_total[i]:.2f}%\"\n",
    "            )\n",
    "    print(f\"Average coverage: {100 * np.sum(class_correct) / np.sum(class_total):.2f}%\")\n",
    "    print(f\"Average set size: {np.mean(set_sizes):.2f}\")"
   ]
  },
  {
   "cell_type": "code",
   "execution_count": 24,
   "metadata": {},
   "outputs": [],
   "source": [
    "# calibrate the model\n",
    "conformity_scores = []\n",
    "\n",
    "for images, labels in calibration_dl:\n",
    "    images, labels = images.to(device), labels.to(device)\n",
    "    predicted_prob = resnet18(images).softmax(dim=1)\n",
    "    scores = 1 - predicted_prob[range(len(labels)), labels]\n",
    "\n",
    "    conformity_scores.extend(scores.detach().cpu().numpy())"
   ]
  },
  {
   "cell_type": "code",
   "execution_count": 25,
   "metadata": {},
   "outputs": [
    {
     "name": "stdout",
     "output_type": "stream",
     "text": [
      "[0.9940668, 0.00043052435, 0.99718106, 0.00038987398, 0.00040358305]\n"
     ]
    }
   ],
   "source": [
    "print(conformity_scores[:5])"
   ]
  },
  {
   "cell_type": "code",
   "execution_count": 26,
   "metadata": {},
   "outputs": [
    {
     "name": "stdout",
     "output_type": "stream",
     "text": [
      "Quantile: 0.95019\n",
      "Threshold: 0.6108211415642502\n"
     ]
    }
   ],
   "source": [
    "COVERAGE = 0.95\n",
    "\n",
    "quantile = COVERAGE * ((len(calibration_dl.dataset) + 1) / len(calibration_dl.dataset))\n",
    "print(f\"Quantile: {quantile}\")\n",
    "threshold = np.quantile(conformity_scores, quantile)\n",
    "print(f\"Threshold: {threshold}\")\n",
    "\n",
    "single_threshold = {i: threshold for i in range(10)}"
   ]
  },
  {
   "cell_type": "code",
   "execution_count": 27,
   "metadata": {},
   "outputs": [
    {
     "name": "stdout",
     "output_type": "stream",
     "text": [
      "Coverage of airplane: 95.80%\n",
      "Coverage of automobile: 97.80%\n",
      "Coverage of bird: 92.60%\n",
      "Coverage of cat: 89.40%\n",
      "Coverage of deer: 96.20%\n",
      "Coverage of dog: 89.80%\n",
      "Coverage of frog: 96.40%\n",
      "Coverage of horse: 96.60%\n",
      "Coverage of ship: 97.20%\n",
      "Coverage of truck: 95.60%\n",
      "Average coverage: 94.74%\n",
      "Average set size: 1.00\n"
     ]
    }
   ],
   "source": [
    "calculate_class_coverage(resnet18, test_dl, single_threshold)"
   ]
  },
  {
   "cell_type": "markdown",
   "metadata": {},
   "source": [
    "## Class balanced conformal prediction"
   ]
  },
  {
   "cell_type": "code",
   "execution_count": 28,
   "metadata": {},
   "outputs": [],
   "source": [
    "# Initialize conformity scores list for each class\n",
    "class_conformity_scores = {i: [] for i in range(10)}\n",
    "\n",
    "for images, labels in calibration_dl:\n",
    "    images, labels = images.to(device), labels.to(device)\n",
    "    predicted_prob = resnet18(images).softmax(dim=1)\n",
    "\n",
    "    for i in range(len(labels)):\n",
    "        class_conformity_scores[labels[i].item()].append(\n",
    "            1 - predicted_prob[i, labels[i]].item()\n",
    "        )"
   ]
  },
  {
   "cell_type": "code",
   "execution_count": 29,
   "metadata": {},
   "outputs": [
    {
     "name": "stdout",
     "output_type": "stream",
     "text": [
      "{0: 0.2820496103167527, 1: 0.09507762341499224, 2: 0.9458017223857336, 3: 0.9905364011596888, 4: 0.5570856909364452, 5: 0.871548156116902, 6: 0.7361661282956528, 7: 0.3156715995252131, 8: 0.49610651172994913, 9: 0.2510034379839891}\n"
     ]
    }
   ],
   "source": [
    "CLASS_THRESHOLD = 0.95\n",
    "\n",
    "class_quantiles = {\n",
    "    i: CLASS_THRESHOLD\n",
    "    * ((len(class_conformity_scores[i]) + 1) / len(class_conformity_scores[i]))\n",
    "    for i in range(10)\n",
    "}\n",
    "\n",
    "class_thresholds = {\n",
    "    i: np.quantile(class_conformity_scores[i], class_quantiles[i]) for i in range(10)\n",
    "}\n",
    "\n",
    "print(class_thresholds)"
   ]
  },
  {
   "cell_type": "code",
   "execution_count": 30,
   "metadata": {},
   "outputs": [
    {
     "name": "stdout",
     "output_type": "stream",
     "text": [
      "Coverage of airplane: 94.40%\n",
      "Coverage of automobile: 95.60%\n",
      "Coverage of bird: 95.20%\n",
      "Coverage of cat: 97.00%\n",
      "Coverage of deer: 95.80%\n",
      "Coverage of dog: 92.20%\n",
      "Coverage of frog: 97.20%\n",
      "Coverage of horse: 95.60%\n",
      "Coverage of ship: 96.80%\n",
      "Coverage of truck: 94.00%\n",
      "Average coverage: 95.38%\n",
      "Average set size: 1.05\n"
     ]
    }
   ],
   "source": [
    "calculate_class_coverage(resnet18, test_dl, class_thresholds)"
   ]
  }
 ],
 "metadata": {
  "kernelspec": {
   "display_name": "adaptive-vit",
   "language": "python",
   "name": "python3"
  },
  "language_info": {
   "codemirror_mode": {
    "name": "ipython",
    "version": 3
   },
   "file_extension": ".py",
   "mimetype": "text/x-python",
   "name": "python",
   "nbconvert_exporter": "python",
   "pygments_lexer": "ipython3",
   "version": "3.11.6"
  }
 },
 "nbformat": 4,
 "nbformat_minor": 2
}
