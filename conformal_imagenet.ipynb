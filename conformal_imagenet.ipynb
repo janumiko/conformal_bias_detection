{
 "cells": [
  {
   "cell_type": "code",
   "execution_count": 1,
   "metadata": {},
   "outputs": [],
   "source": [
    "from datasets import split_data, get_imagenet_dataset, get_class\n",
    "from conformal_prediction import adaptive_conformal_score, get_calibration_scores, predict_conformal_set\n",
    "from torch.utils.data import DataLoader\n",
    "from torchvision.models import EfficientNet_B1_Weights, efficientnet_b1\n",
    "import torch\n",
    "import numpy as np"
   ]
  },
  {
   "cell_type": "code",
   "execution_count": 2,
   "metadata": {},
   "outputs": [],
   "source": [
    "IMAGENET_PATH = 'datasets'\n",
    "BATCH_SIZE = 128\n",
    "\n",
    "device = 'cuda' if torch.cuda.is_available() else 'cpu'"
   ]
  },
  {
   "cell_type": "code",
   "execution_count": 3,
   "metadata": {},
   "outputs": [],
   "source": [
    "model = efficientnet_b1(weights=EfficientNet_B1_Weights.IMAGENET1K_V1).to(device)\n",
    "transform = EfficientNet_B1_Weights.IMAGENET1K_V1.transforms()\n",
    "\n",
    "dataset = get_imagenet_dataset(IMAGENET_PATH, transform=transform)\n",
    "test_dataset, calibrate_dataset = split_data(dataset, 0.02)"
   ]
  },
  {
   "cell_type": "code",
   "execution_count": 4,
   "metadata": {},
   "outputs": [
    {
     "name": "stderr",
     "output_type": "stream",
     "text": [
      "100%|██████████| 8/8 [00:19<00:00,  2.44s/it]"
     ]
    },
    {
     "name": "stdout",
     "output_type": "stream",
     "text": [
      "torch.Size([1000, 1])\n"
     ]
    },
    {
     "name": "stderr",
     "output_type": "stream",
     "text": [
      "\n"
     ]
    }
   ],
   "source": [
    "calibrate_loader = DataLoader(calibrate_dataset, batch_size=BATCH_SIZE, shuffle=False)\n",
    "calibration_scores = get_calibration_scores(model, calibrate_loader, adaptive_conformal_score, device)\n",
    "print(calibration_scores.shape)"
   ]
  },
  {
   "cell_type": "code",
   "execution_count": 5,
   "metadata": {},
   "outputs": [
    {
     "name": "stdout",
     "output_type": "stream",
     "text": [
      "tensor(0.9981, device='cuda:0')\n"
     ]
    }
   ],
   "source": [
    "alpha = 0.1\n",
    "calib_len = len(calibration_scores)\n",
    "threshold = calibration_scores.quantile(np.ceil((calib_len + 1) * (1 - alpha)) / calib_len, interpolation='higher')\n",
    "print(threshold)"
   ]
  },
  {
   "cell_type": "code",
   "execution_count": 6,
   "metadata": {},
   "outputs": [
    {
     "name": "stdout",
     "output_type": "stream",
     "text": [
      "49\n"
     ]
    }
   ],
   "source": [
    "class_subset = get_class(test_dataset, 309)\n",
    "class_loader = DataLoader(class_subset, batch_size=BATCH_SIZE, shuffle=False)\n",
    "print(len(class_subset))"
   ]
  },
  {
   "cell_type": "code",
   "execution_count": 7,
   "metadata": {},
   "outputs": [
    {
     "name": "stderr",
     "output_type": "stream",
     "text": [
      "100%|██████████| 1/1 [00:00<00:00,  1.01it/s]\n"
     ]
    }
   ],
   "source": [
    "conformal_set = predict_conformal_set(model, class_loader, adaptive_conformal_score, threshold, device)"
   ]
  },
  {
   "cell_type": "code",
   "execution_count": 8,
   "metadata": {},
   "outputs": [
    {
     "name": "stdout",
     "output_type": "stream",
     "text": [
      "851\n",
      "800\n",
      "953\n",
      "868\n",
      "759\n",
      "937\n",
      "947\n",
      "793\n",
      "876\n",
      "936\n",
      "940\n",
      "944\n",
      "965\n",
      "814\n",
      "936\n",
      "889\n",
      "966\n",
      "939\n",
      "916\n",
      "922\n",
      "950\n",
      "936\n",
      "803\n",
      "881\n",
      "777\n",
      "955\n",
      "908\n",
      "921\n",
      "947\n",
      "926\n",
      "807\n",
      "969\n",
      "800\n",
      "851\n",
      "972\n",
      "931\n",
      "937\n",
      "795\n",
      "926\n",
      "962\n",
      "927\n",
      "944\n",
      "905\n",
      "938\n",
      "960\n",
      "935\n",
      "968\n",
      "787\n",
      "954\n"
     ]
    }
   ],
   "source": [
    "for i in conformal_set:\n",
    "    print(len(i))"
   ]
  }
 ],
 "metadata": {
  "kernelspec": {
   "display_name": "vit",
   "language": "python",
   "name": "python3"
  },
  "language_info": {
   "codemirror_mode": {
    "name": "ipython",
    "version": 3
   },
   "file_extension": ".py",
   "mimetype": "text/x-python",
   "name": "python",
   "nbconvert_exporter": "python",
   "pygments_lexer": "ipython3",
   "version": "3.10.13"
  }
 },
 "nbformat": 4,
 "nbformat_minor": 2
}
